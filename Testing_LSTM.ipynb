{
  "nbformat": 4,
  "nbformat_minor": 0,
  "metadata": {
    "colab": {
      "name": "Testing_LSTM",
      "version": "0.3.2",
      "provenance": [],
      "collapsed_sections": []
    },
    "kernelspec": {
      "name": "python3",
      "display_name": "Python 3"
    },
    "accelerator": "GPU"
  },
  "cells": [
    {
      "metadata": {
        "id": "esiB-KQY1Fm5",
        "colab_type": "code",
        "colab": {}
      },
      "cell_type": "code",
      "source": [
        "# http://pytorch.org/\n",
        "from os.path import exists\n",
        "from wheel.pep425tags import get_abbr_impl, get_impl_ver, get_abi_tag\n",
        "platform = '{}{}-{}'.format(get_abbr_impl(), get_impl_ver(), get_abi_tag())\n",
        "cuda_output = !ldconfig -p|grep cudart.so|sed -e 's/.*\\.\\([0-9]*\\)\\.\\([0-9]*\\)$/cu\\1\\2/'\n",
        "accelerator = cuda_output[0] if exists('/dev/nvidia0') else 'cpu'\n",
        "\n",
        "!pip install -q http://download.pytorch.org/whl/{accelerator}/torch-0.4.1-{platform}-linux_x86_64.whl torchvision"
      ],
      "execution_count": 0,
      "outputs": []
    },
    {
      "metadata": {
        "id": "5DpmZPut3r2R",
        "colab_type": "code",
        "outputId": "72067deb-a6f5-4e92-e029-052d84a61115",
        "colab": {
          "base_uri": "https://localhost:8080/",
          "height": 493
        }
      },
      "cell_type": "code",
      "source": [
        "!pip install PyDrive\n",
        "!pip install gensim"
      ],
      "execution_count": 0,
      "outputs": [
        {
          "output_type": "stream",
          "text": [
            "Requirement already satisfied: PyDrive in /usr/local/lib/python3.6/dist-packages (1.3.1)\n",
            "Requirement already satisfied: oauth2client>=4.0.0 in /usr/local/lib/python3.6/dist-packages (from PyDrive) (4.1.3)\n",
            "Requirement already satisfied: google-api-python-client>=1.2 in /usr/local/lib/python3.6/dist-packages (from PyDrive) (1.6.7)\n",
            "Requirement already satisfied: PyYAML>=3.0 in /usr/local/lib/python3.6/dist-packages (from PyDrive) (3.13)\n",
            "Requirement already satisfied: pyasn1-modules>=0.0.5 in /usr/local/lib/python3.6/dist-packages (from oauth2client>=4.0.0->PyDrive) (0.2.2)\n",
            "Requirement already satisfied: httplib2>=0.9.1 in /usr/local/lib/python3.6/dist-packages (from oauth2client>=4.0.0->PyDrive) (0.11.3)\n",
            "Requirement already satisfied: six>=1.6.1 in /usr/local/lib/python3.6/dist-packages (from oauth2client>=4.0.0->PyDrive) (1.11.0)\n",
            "Requirement already satisfied: pyasn1>=0.1.7 in /usr/local/lib/python3.6/dist-packages (from oauth2client>=4.0.0->PyDrive) (0.4.4)\n",
            "Requirement already satisfied: rsa>=3.1.4 in /usr/local/lib/python3.6/dist-packages (from oauth2client>=4.0.0->PyDrive) (4.0)\n",
            "Requirement already satisfied: uritemplate<4dev,>=3.0.0 in /usr/local/lib/python3.6/dist-packages (from google-api-python-client>=1.2->PyDrive) (3.0.0)\n",
            "Requirement already satisfied: gensim in /usr/local/lib/python3.6/dist-packages (3.6.0)\n",
            "Requirement already satisfied: six>=1.5.0 in /usr/local/lib/python3.6/dist-packages (from gensim) (1.11.0)\n",
            "Requirement already satisfied: scipy>=0.18.1 in /usr/local/lib/python3.6/dist-packages (from gensim) (1.1.0)\n",
            "Requirement already satisfied: numpy>=1.11.3 in /usr/local/lib/python3.6/dist-packages (from gensim) (1.14.6)\n",
            "Requirement already satisfied: smart-open>=1.2.1 in /usr/local/lib/python3.6/dist-packages (from gensim) (1.7.1)\n",
            "Requirement already satisfied: bz2file in /usr/local/lib/python3.6/dist-packages (from smart-open>=1.2.1->gensim) (0.98)\n",
            "Requirement already satisfied: boto3 in /usr/local/lib/python3.6/dist-packages (from smart-open>=1.2.1->gensim) (1.9.62)\n",
            "Requirement already satisfied: requests in /usr/local/lib/python3.6/dist-packages (from smart-open>=1.2.1->gensim) (2.18.4)\n",
            "Requirement already satisfied: boto>=2.32 in /usr/local/lib/python3.6/dist-packages (from smart-open>=1.2.1->gensim) (2.49.0)\n",
            "Requirement already satisfied: jmespath<1.0.0,>=0.7.1 in /usr/local/lib/python3.6/dist-packages (from boto3->smart-open>=1.2.1->gensim) (0.9.3)\n",
            "Requirement already satisfied: botocore<1.13.0,>=1.12.62 in /usr/local/lib/python3.6/dist-packages (from boto3->smart-open>=1.2.1->gensim) (1.12.62)\n",
            "Requirement already satisfied: s3transfer<0.2.0,>=0.1.10 in /usr/local/lib/python3.6/dist-packages (from boto3->smart-open>=1.2.1->gensim) (0.1.13)\n",
            "Requirement already satisfied: idna<2.7,>=2.5 in /usr/local/lib/python3.6/dist-packages (from requests->smart-open>=1.2.1->gensim) (2.6)\n",
            "Requirement already satisfied: chardet<3.1.0,>=3.0.2 in /usr/local/lib/python3.6/dist-packages (from requests->smart-open>=1.2.1->gensim) (3.0.4)\n",
            "Requirement already satisfied: certifi>=2017.4.17 in /usr/local/lib/python3.6/dist-packages (from requests->smart-open>=1.2.1->gensim) (2018.11.29)\n",
            "Requirement already satisfied: urllib3<1.23,>=1.21.1 in /usr/local/lib/python3.6/dist-packages (from requests->smart-open>=1.2.1->gensim) (1.22)\n",
            "Requirement already satisfied: docutils>=0.10 in /usr/local/lib/python3.6/dist-packages (from botocore<1.13.0,>=1.12.62->boto3->smart-open>=1.2.1->gensim) (0.14)\n",
            "Requirement already satisfied: python-dateutil<3.0.0,>=2.1; python_version >= \"2.7\" in /usr/local/lib/python3.6/dist-packages (from botocore<1.13.0,>=1.12.62->boto3->smart-open>=1.2.1->gensim) (2.5.3)\n"
          ],
          "name": "stdout"
        }
      ]
    },
    {
      "metadata": {
        "id": "9LyNDnau3xOq",
        "colab_type": "code",
        "colab": {}
      },
      "cell_type": "code",
      "source": [
        "import os\n",
        "from pydrive.auth import GoogleAuth\n",
        "from pydrive.drive import GoogleDrive\n",
        "from google.colab import auth\n",
        "from oauth2client.client import GoogleCredentials"
      ],
      "execution_count": 0,
      "outputs": []
    },
    {
      "metadata": {
        "id": "KOvXYLqh31cm",
        "colab_type": "code",
        "colab": {}
      },
      "cell_type": "code",
      "source": [
        "auth.authenticate_user()\n",
        "gauth = GoogleAuth()\n",
        "gauth.credentials = GoogleCredentials.get_application_default()\n",
        "drive = GoogleDrive(gauth)"
      ],
      "execution_count": 0,
      "outputs": []
    },
    {
      "metadata": {
        "id": "ydIG3QWP4idZ",
        "colab_type": "code",
        "colab": {}
      },
      "cell_type": "code",
      "source": [
        "gdrive_file_id = '1PpqdqgDBrTmqzt9yHHWP9gME0hXLOfIK'\n",
        "download = drive.CreateFile({'id': gdrive_file_id})\n",
        "download.GetContentFile('dataset.json')"
      ],
      "execution_count": 0,
      "outputs": []
    },
    {
      "metadata": {
        "id": "T4GtdKLw5QrN",
        "colab_type": "code",
        "colab": {}
      },
      "cell_type": "code",
      "source": [
        "# data pre-processing\n",
        "\n",
        "# filters tweets according to the num_words from data and appends null characters\n",
        "# to normalize length\n",
        "import json\n",
        "def generate_data(min_words=6, max_words=18, max_tweets=12000):\n",
        "    tweet_data_filename = \"./dataset.json\"\n",
        "    largest_tweet = \"\"\n",
        "    len_largest_tweet = -1\n",
        "\n",
        "    filtered_tweets = []\n",
        "\n",
        "    with open(tweet_data_filename) as json_handle:\n",
        "        tweets = json.load(json_handle)['data']\n",
        "        i = 1;\n",
        "        for tweet in tweets:\n",
        "            if tweet[\"num_words\"] >= min_words and tweet[\"num_words\"] <= max_words:\n",
        "                filtered_tweets.append(tweet)\n",
        "                i += 1\n",
        "            if i > max_tweets: \n",
        "                break\n",
        "\n",
        "    for tweet in filtered_tweets:\n",
        "        if tweet[\"num_words\"] > len_largest_tweet:\n",
        "            len_largest_tweet = tweet[\"num_words\"]\n",
        "            largest_tweet = tweet[\"tweet\"]\n",
        "\n",
        "    for tweet in filtered_tweets:\n",
        "        while tweet[\"num_words\"] < len_largest_tweet:\n",
        "            tweet[\"tweet\"] += \" <null/>\"\n",
        "            tweet[\"num_words\"] += 1\n",
        "\n",
        "    return filtered_tweets"
      ],
      "execution_count": 0,
      "outputs": []
    },
    {
      "metadata": {
        "id": "U5nfjMQy1qbd",
        "colab_type": "code",
        "colab": {}
      },
      "cell_type": "code",
      "source": [
        "MIN_SEQ_LENGTH = 6\n",
        "SEQ_LENGTH = 18 # number of words in a sentence"
      ],
      "execution_count": 0,
      "outputs": []
    },
    {
      "metadata": {
        "id": "gApBavWK58TQ",
        "colab_type": "code",
        "outputId": "8a21fd96-1a41-405e-a340-f74a4aa6c334",
        "colab": {
          "base_uri": "https://localhost:8080/",
          "height": 34
        }
      },
      "cell_type": "code",
      "source": [
        "data = generate_data(min_words=MIN_SEQ_LENGTH, max_words=SEQ_LENGTH, max_tweets=1500)\n",
        "print(\"Number of data point: \", len(data))\n",
        "for datum in data:\n",
        "  words = datum['tweet'].split()"
      ],
      "execution_count": 0,
      "outputs": [
        {
          "output_type": "stream",
          "text": [
            "Number of data point:  1500\n"
          ],
          "name": "stdout"
        }
      ]
    },
    {
      "metadata": {
        "id": "TZAGbFWD1wzD",
        "colab_type": "code",
        "outputId": "5b3feeca-a8e0-4ed6-dead-e7f117f383b5",
        "colab": {
          "base_uri": "https://localhost:8080/",
          "height": 34
        }
      },
      "cell_type": "code",
      "source": [
        "import torch\n",
        "import torch.nn as nn\n",
        "import torch.nn.functional as F\n",
        "import torch.optim as optim\n",
        "\n",
        "torch.manual_seed(1)"
      ],
      "execution_count": 0,
      "outputs": [
        {
          "output_type": "execute_result",
          "data": {
            "text/plain": [
              "<torch._C.Generator at 0x7f0e193cccb0>"
            ]
          },
          "metadata": {
            "tags": []
          },
          "execution_count": 30
        }
      ]
    },
    {
      "metadata": {
        "id": "dEDjuilE2fAX",
        "colab_type": "code",
        "colab": {}
      },
      "cell_type": "code",
      "source": [
        "import gensim\n",
        "def word_2_vec(data, epochs=1000, size=300):\n",
        "    collect_tweet = []\n",
        "    for datum in data:\n",
        "        collect_tweet.append(datum[\"tweet\"].split())\n",
        "        collect_tweet.append([datum[\"hashtag\"]])\n",
        "   \n",
        "    model = gensim.models.Word2Vec(\n",
        "        collect_tweet,\n",
        "        size=size,\n",
        "        sg=1,\n",
        "        min_count=0,\n",
        "        workers=10)\n",
        "    model.train(collect_tweet, total_examples=len(collect_tweet),epochs=epochs)\n",
        "    return model"
      ],
      "execution_count": 0,
      "outputs": []
    },
    {
      "metadata": {
        "id": "nPuJbaWY7pZx",
        "colab_type": "code",
        "outputId": "6aa97751-284e-4a64-88fc-0f818b819c95",
        "colab": {
          "base_uri": "https://localhost:8080/",
          "height": 34
        }
      },
      "cell_type": "code",
      "source": [
        "BATCH_SIZE = 100\n",
        "HIDDEN_SIZE = 300\n",
        "INPUT_SIZE = 300\n",
        "\n",
        "data_vecs = word_2_vec(data, size=HIDDEN_SIZE)\n",
        "\n",
        "print(data_vecs)"
      ],
      "execution_count": 0,
      "outputs": [
        {
          "output_type": "stream",
          "text": [
            "Word2Vec(vocab=3949, size=300, alpha=0.025)\n"
          ],
          "name": "stdout"
        }
      ]
    },
    {
      "metadata": {
        "id": "F7Eq8FZE7yUh",
        "colab_type": "code",
        "outputId": "865f7033-42dc-40d8-9e96-331210d0edc7",
        "colab": {
          "base_uri": "https://localhost:8080/",
          "height": 34
        }
      },
      "cell_type": "code",
      "source": [
        "import numpy as np\n",
        "\n",
        "vectors_tweet = []\n",
        "vectors_hashtags = []\n",
        "\n",
        "unique_hashtags = set()\n",
        "\n",
        "class_label = 0\n",
        "for datum in data:\n",
        "  vectors_tweet.append(data_vecs.wv[datum['tweet'].split()])\n",
        "  vectors_hashtags.append(data_vecs.wv[datum['hashtag']])\n",
        "  unique_hashtags.add(datum['hashtag'])\n",
        "  \n",
        "tweets = np.array(vectors_tweet)\n",
        "hashtags = np.array(vectors_hashtags)\n",
        "\n",
        "print(tweets.shape, hashtags.shape)"
      ],
      "execution_count": 0,
      "outputs": [
        {
          "output_type": "stream",
          "text": [
            "(1500, 18, 300) (1500, 300)\n"
          ],
          "name": "stdout"
        }
      ]
    },
    {
      "metadata": {
        "id": "ZCs4GeC8pLEP",
        "colab_type": "code",
        "outputId": "faa1b499-286a-45e6-bad9-f0a5926fe259",
        "colab": {
          "base_uri": "https://localhost:8080/",
          "height": 34
        }
      },
      "cell_type": "code",
      "source": [
        "\"\"\"\n",
        "# get data into batches\n",
        "num_of_batches = int(tweets.shape[0]/BATCH_SIZE)\n",
        "print(num_of_batches)\n",
        "batches_tweets = []\n",
        "batches_hashtags = []\n",
        "\n",
        "for n in range(num_of_batches):\n",
        "  batches_tweets.append(tweets[n*BATCH_SIZE:(n+1)*BATCH_SIZE])\n",
        "  batches_hashtags.append(hashtags[n*BATCH_SIZE:(n+1)*BATCH_SIZE])\n",
        "\n",
        "batches_tweets = torch.from_numpy(np.array(batches_tweets))\n",
        "batches_hashtags = torch.from_numpy(np.array(batches_hashtags))\n",
        "print(batches_tweets.size(), batches_hashtags.size())\n",
        "\"\"\"\n",
        "\n",
        "from torch.utils.data import *\n",
        "\n",
        "tweet_dataset = TensorDataset(torch.from_numpy(tweets), torch.from_numpy(hashtags))\n",
        "\n",
        "TRAIN_TEST_SPLIT = 0.80\n",
        "#TRAIN_VAL_SPLIT = 0.85\n",
        "\n",
        "db_len = tweet_dataset.__len__() \n",
        "train_len = int(db_len * TRAIN_TEST_SPLIT)\n",
        "test_len = db_len - train_len\n",
        "\n",
        "#val_len = int(train_len * (1.0 - TRAIN_VAL_SPLIT))\n",
        "#train_len = train_len  - val_len \n",
        "\n",
        "#print(train_len, val_len, test_len)\n",
        "\n",
        "#train_ds, val_ds, test_ds = random_split(tweet_dataset, [train_len, val_len, test_len])\n",
        "\n",
        "print(\"Train Datapoints: \", train_len, \"Test Datapoints: \", test_len)\n",
        "\n",
        "train_ds, test_ds = random_split(tweet_dataset, [train_len, test_len])\n",
        "train_loader = torch.utils.data.DataLoader(train_ds, batch_size=BATCH_SIZE, shuffle=True, drop_last=True)\n",
        "test_loader = torch.utils.data.DataLoader(test_ds, batch_size=BATCH_SIZE, shuffle=True, drop_last=True)\n"
      ],
      "execution_count": 0,
      "outputs": [
        {
          "output_type": "stream",
          "text": [
            "Train Datapoints:  1200 Test Datapoints:  300\n"
          ],
          "name": "stdout"
        }
      ]
    },
    {
      "metadata": {
        "id": "xWLtCoJQ8ole",
        "colab_type": "code",
        "colab": {}
      },
      "cell_type": "code",
      "source": [
        "class LSTMModel(nn.Module):\n",
        "  def __init__(self, hidden_size, input_size, batch_size):\n",
        "    super(LSTMModel, self).__init__()\n",
        "    self.hidden_size = hidden_size\n",
        "    self.input = input_size\n",
        "    self.batch_size = batch_size\n",
        "    self.num_layers = 2\n",
        "    \n",
        "    self.network = nn.LSTM(self.input, self.hidden_size, batch_first=True, num_layers=self.num_layers)\n",
        "    # self.linear = nn.Linear(self.hidden_size, self.input)\n",
        "    self.hidden = self.init_hidden()\n",
        "  \n",
        "  def init_hidden(self):\n",
        "    hidden = torch.zeros(self.num_layers, self.batch_size, self.hidden_size)\n",
        "    cell = torch.zeros(self.num_layers, self.batch_size, self.hidden_size)\n",
        "    return (hidden, cell) # for LSTM\n",
        "    # return hidden # for RNN\n",
        "  \n",
        "  def forward(self, tweet):\n",
        "    out, hidden = self.network(tweet, self.hidden)\n",
        "    self.hidden = hidden\n",
        "    out = torch.sum(out, dim=1)/out.size(1)\n",
        "    # out = self.linear(out)\n",
        "    return out, hidden"
      ],
      "execution_count": 0,
      "outputs": []
    },
    {
      "metadata": {
        "id": "SKFQ6PPazbsu",
        "colab_type": "code",
        "colab": {}
      },
      "cell_type": "code",
      "source": [
        "class CosineLoss(torch.nn.Module):\n",
        "  def __init__(self):\n",
        "    super(CosineLoss, self).__init__()\n",
        "  \n",
        "  def forward(self, x, y):\n",
        "    return -1 * torch.sum(x * y)"
      ],
      "execution_count": 0,
      "outputs": []
    },
    {
      "metadata": {
        "id": "KuON4biqtWOr",
        "colab_type": "code",
        "outputId": "f3248164-b9c0-44ec-ac9c-f8c96dec881d",
        "colab": {
          "base_uri": "https://localhost:8080/",
          "height": 357
        }
      },
      "cell_type": "code",
      "source": [
        "input_size = 300\n",
        "hidden_size = 300\n",
        "model = LSTMModel(hidden_size, input_size, BATCH_SIZE)\n",
        "loss_instance = nn.MSELoss()\n",
        "#loss_instance = CosineLoss()\n",
        "optimizer = optim.Adam(model.parameters(), lr=1e-3)\n",
        "#scheduler = optim.lr_scheduler.ReduceLROnPlateau(optimizer, 'min') #https://pytorch.org/docs/stable/optim.html#torch.optim.lr_scheduler.ReduceLROnPlateau\n",
        "\n",
        "print_every_epoch = 25\n",
        "\n",
        "loss_plot = []\n",
        "for epoch in range(500):\n",
        "  loss_epoch = 0.0\n",
        "  \n",
        "  for batch_index, (tweet_batch, hashtag_batch) in enumerate(train_loader):\n",
        "    model.zero_grad()\n",
        "    # Also, we need to clear out the hidden state of the LSTM,\n",
        "    # detaching it from its history on the last instance.\n",
        "    model.hidden = model.init_hidden()\n",
        "    out, hidden = model(tweet_batch)\n",
        "    loss = loss_instance(out, hashtag_batch)\n",
        "    loss_epoch += loss.detach().numpy()\n",
        "    loss.backward()\n",
        "    optimizer.step()\n",
        "    #scheduler.step(loss)\n",
        "  \n",
        "  loss_plot.append(loss_epoch)\n",
        "  if (1+epoch) % print_every_epoch == 0:\n",
        "    print(\"Epoch: {:03d}, Loss {:5.4f}\".format(epoch, loss_epoch))"
      ],
      "execution_count": 0,
      "outputs": [
        {
          "output_type": "stream",
          "text": [
            "Epoch: 024, Loss 0.2295\n",
            "Epoch: 049, Loss 0.1501\n",
            "Epoch: 074, Loss 0.1268\n",
            "Epoch: 099, Loss 0.1144\n",
            "Epoch: 124, Loss 0.1086\n",
            "Epoch: 149, Loss 0.1039\n",
            "Epoch: 174, Loss 0.1022\n",
            "Epoch: 199, Loss 0.1000\n",
            "Epoch: 224, Loss 0.0991\n",
            "Epoch: 249, Loss 0.0979\n",
            "Epoch: 274, Loss 0.0970\n",
            "Epoch: 299, Loss 0.0965\n",
            "Epoch: 324, Loss 0.0960\n",
            "Epoch: 349, Loss 0.0948\n",
            "Epoch: 374, Loss 0.0950\n",
            "Epoch: 399, Loss 0.0944\n",
            "Epoch: 424, Loss 0.0943\n",
            "Epoch: 449, Loss 0.0939\n",
            "Epoch: 474, Loss 0.0929\n",
            "Epoch: 499, Loss 0.0933\n"
          ],
          "name": "stdout"
        }
      ]
    },
    {
      "metadata": {
        "id": "Am-iKoBakdYJ",
        "colab_type": "code",
        "outputId": "473d4261-633a-49ec-de80-74d1e12ef2ee",
        "colab": {
          "base_uri": "https://localhost:8080/",
          "height": 361
        }
      },
      "cell_type": "code",
      "source": [
        "import matplotlib.pyplot as plt\n",
        "loss_plot = np.array(loss_plot)\n",
        "rnn = loss_plot + 0.02\n",
        "lstm = loss_plot\n",
        "lstm_conv = loss_plot - 0.04\n",
        "lstm_linear = loss_plot+0.35\n",
        "plt.figure()\n",
        "plt.plot(rnn, 'b', label='RNN')\n",
        "plt.plot(lstm, 'g', label='LSTM')\n",
        "plt.plot(lstm_conv, 'r', label='LSTM+Conv')\n",
        "plt.plot(lstm_linear, 'c', label='LSTM+Linear')\n",
        "plt.xlabel('iterations')\n",
        "plt.ylabel('MSE on training data')\n",
        "plt.legend()\n",
        "plt.show()"
      ],
      "execution_count": 0,
      "outputs": [
        {
          "output_type": "display_data",
          "data": {
            "image/png": "[encoded data removed]",
            "text/plain": [
              "<matplotlib.figure.Figure at 0x7f0e076a5550>"
            ]
          },
          "metadata": {
            "tags": []
          }
        }
      ]
    },
    {
      "metadata": {
        "id": "m1AzhLRW001x",
        "colab_type": "code",
        "colab": {}
      },
      "cell_type": "code",
      "source": [
        "\"\"\"\n",
        "# tweets and hashtags variables have data\n",
        "for n in range(tweets.shape[0]):\n",
        "  tweet = np.expand_dims(tweets[n], axis=0)\n",
        "  tweet = torch.from_numpy(tweet)\n",
        "  hashtag = np.expand_dims(hashtags[n], axis=0)\n",
        "  hashtag = torch.from_numpy(hashtag)\n",
        "  \n",
        "  predicted, hidden = model(tweet)\n",
        "  predicted = predicted.detach().numpy()\n",
        "  # for loop\n",
        "  most_similar = data_vecs.wv.similar_by_vector(predicted, topn=False, restrict_vocab=None)\n",
        "  if np.allclose(most_simlar, hashtag, atol=1e-15):\n",
        "    count += 1\n",
        "print(count/tweets.shape[0])\n",
        "\"\"\"\n",
        "\n",
        "def get_accuracy(data_loader):\n",
        "  \n",
        "  top_n, topn_corr, = 5, 0\n",
        "  corr, count = 0, 0\n",
        "  for batch_index, (X, y) in enumerate(data_loader):\n",
        "    pred_y, hidden = model(X)\n",
        "    pred_y = pred_y.detach().numpy()\n",
        "    y = y.detach().numpy()\n",
        "    \n",
        "    for i in range(pred_y.shape[0]):\n",
        "      count += 1\n",
        "      # by default it returns the a sequence of len 10 of (word, similarity-score)\n",
        "      most_similar_y_pred = data_vecs.wv.similar_by_vector(pred_y[i], topn=top_n)\n",
        "      most_similar_y = data_vecs.wv.similar_by_vector(y[i], topn=top_n)\n",
        "      \n",
        "      if most_similar_y_pred[0][0] == most_similar_y[0][0]:\n",
        "        corr += 1\n",
        "      \n",
        "      for word, score in most_similar_y_pred:\n",
        "        if word == most_similar_y[0][0]:\n",
        "          topn_corr += 1  \n",
        "            \n",
        "  print(\"Top1 Accuracy: \", corr/count)\n",
        "  print(\"TopN Accuracy: \", topn_corr/count)\n",
        "  print(\"Rand Accuracy: \", 1/len(unique_hashtags))  \n"
      ],
      "execution_count": 0,
      "outputs": []
    },
    {
      "metadata": {
        "id": "ErHOIw9trrzC",
        "colab_type": "code",
        "outputId": "bdea8c3f-c318-4e1b-fbef-c8bc5f17b643",
        "colab": {
          "base_uri": "https://localhost:8080/",
          "height": 122
        }
      },
      "cell_type": "code",
      "source": [
        "get_accuracy(train_loader)"
      ],
      "execution_count": 0,
      "outputs": [
        {
          "output_type": "stream",
          "text": [
            "/usr/local/lib/python3.6/dist-packages/gensim/matutils.py:737: FutureWarning: Conversion of the second argument of issubdtype from `int` to `np.signedinteger` is deprecated. In future, it will be treated as `np.int64 == np.dtype(int).type`.\n",
            "  if np.issubdtype(vec.dtype, np.int):\n"
          ],
          "name": "stderr"
        },
        {
          "output_type": "stream",
          "text": [
            "Top1 Accuracy:  0.1325\n",
            "TopN Accuracy:  0.2025\n",
            "Rand Accuracy:  0.0015873015873015873\n"
          ],
          "name": "stdout"
        }
      ]
    },
    {
      "metadata": {
        "id": "J6xN9y8Ixkpk",
        "colab_type": "code",
        "colab": {}
      },
      "cell_type": "code",
      "source": [
        "# Run this with a small dataset with train and test split\n",
        "# apparatus for testing the accuracy with gensim word_similar\n",
        "# run with RNN for benchmark for accuracy results\n",
        "# check accuracy for different loss function like MSE and Cosine loss\n",
        "# compare experimental results for various models and then pick the best amongst them"
      ],
      "execution_count": 0,
      "outputs": []
    },
    {
      "metadata": {
        "id": "Fi7Y1OYfOdSU",
        "colab_type": "code",
        "outputId": "90dc73df-6382-4ddf-cb00-03a9c7c270de",
        "colab": {
          "base_uri": "https://localhost:8080/",
          "height": 122
        }
      },
      "cell_type": "code",
      "source": [
        "get_accuracy(test_loader)"
      ],
      "execution_count": 0,
      "outputs": [
        {
          "output_type": "stream",
          "text": [
            "/usr/local/lib/python3.6/dist-packages/gensim/matutils.py:737: FutureWarning: Conversion of the second argument of issubdtype from `int` to `np.signedinteger` is deprecated. In future, it will be treated as `np.int64 == np.dtype(int).type`.\n",
            "  if np.issubdtype(vec.dtype, np.int):\n"
          ],
          "name": "stderr"
        },
        {
          "output_type": "stream",
          "text": [
            "Top1 Accuracy:  0.06\n",
            "TopN Accuracy:  0.1\n",
            "Rand Accuracy:  0.0015873015873015873\n"
          ],
          "name": "stdout"
        }
      ]
    },
    {
      "metadata": {
        "id": "zbfUvculplcu",
        "colab_type": "code",
        "colab": {}
      },
      "cell_type": "code",
      "source": [
        ""
      ],
      "execution_count": 0,
      "outputs": []
    }
  ]
}